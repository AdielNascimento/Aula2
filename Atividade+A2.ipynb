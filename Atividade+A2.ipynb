{
 "cells": [
  {
   "cell_type": "markdown",
   "metadata": {},
   "source": [
    "Índice"
   ]
  },
  {
   "cell_type": "markdown",
   "metadata": {},
   "source": [
    "Adiel Dos Santos Nascimento - 201504940002"
   ]
  },
  {
   "cell_type": "markdown",
   "metadata": {},
   "source": [
    "- [Descrição da Atividade](#Descrição-da-Atividade)"
   ]
  },
  {
   "cell_type": "code",
   "execution_count": 5,
   "metadata": {
    "collapsed": true
   },
   "outputs": [],
   "source": [
    "#pathFileImages = 'C:/Users/claud/OneDrive/Documentos/Figuras Matemática Computacional/Erros/'\n",
    "\n",
    "pathFileImages = 'C:/Users/claud/Dropbox/RepoGit/disciplina/temp/MatematicaComputacionalUFPA/Noções Básicas sobre Erros/Figuras Representação/'\n",
    "\n",
    "\n",
    "from IPython.display import Image\n",
    "from IPython.display import HTML\n",
    "import matplotlib.pyplot as plt\n",
    "import numpy as np\n",
    "import numpy.random as npr\n",
    "import math"
   ]
  },
  {
   "cell_type": "markdown",
   "metadata": {},
   "source": [
    "# Descrição da Atividade"
   ]
  },
  {
   "cell_type": "markdown",
   "metadata": {
    "collapsed": true
   },
   "source": [
    "### Def para Converter Binário ---> Decimal"
   ]
  },
  {
   "cell_type": "code",
   "execution_count": 4,
   "metadata": {
    "collapsed": false
   },
   "outputs": [
    {
     "name": "stdout",
     "output_type": "stream",
     "text": [
      "1\n",
      "10\n",
      "100\n",
      "1001\n",
      "10010\n",
      "100100\n",
      "1001000\n",
      "10010000\n",
      "100100001\n",
      "1001000011\n",
      "Valor em binário:  1100001001\n"
     ]
    }
   ],
   "source": [
    "def converterd_b(n):\n",
    "    binario = \"\"\n",
    "    while(True):\n",
    "        binario = binario + str(n%2)\n",
    "        print(binario)\n",
    "        n = n//2\n",
    "        if n == 0:\n",
    "            break\n",
    "    binario = binario[::-1]\n",
    "    binario = int(binario)\n",
    "    return binario\n",
    "\n",
    "print ('Valor em binário: ',converterd_b(777))"
   ]
  },
  {
   "cell_type": "markdown",
   "metadata": {},
   "source": [
    "### Def para Converter Decimal ---> Binário "
   ]
  },
  {
   "cell_type": "code",
   "execution_count": 3,
   "metadata": {
    "collapsed": false
   },
   "outputs": [
    {
     "name": "stdout",
     "output_type": "stream",
     "text": [
      "Valor em Decimal:  777\n"
     ]
    }
   ],
   "source": [
    "def converterb_d(n):\n",
    "    decimal = 0\n",
    "    n = str(n)\n",
    "    n = n[::-1]\n",
    "    tam = len(n)\n",
    "    for i in range(tam):\n",
    "        if n[i] == \"1\":\n",
    "            decimal = decimal + 2**i\n",
    "    return decimal\n",
    "\n",
    "print ('Valor em Decimal: ',converterb_d(1100001001))"
   ]
  },
  {
   "cell_type": "markdown",
   "metadata": {},
   "source": [
    "### Def Bin Dec"
   ]
  },
  {
   "cell_type": "code",
   "execution_count": null,
   "metadata": {
    "collapsed": true
   },
   "outputs": [],
   "source": [
    "def dec2bin(n):\n",
    "    if n//2==0:\n",
    "        return np.array([n])\n",
    "    else:\n",
    "        return np.append(np.array([n%2]),dec2bin(n//2))\n",
    "    \n"
   ]
  },
  {
   "cell_type": "markdown",
   "metadata": {},
   "source": [
    "### Def para Converter 0.1 ---> Binário "
   ]
  },
  {
   "cell_type": "code",
   "execution_count": 27,
   "metadata": {
    "collapsed": false
   },
   "outputs": [
    {
     "name": "stdout",
     "output_type": "stream",
     "text": [
      "1\n",
      "k = 1, 2*r1 = 0.2 -> d1 =  0 \n",
      "\t\t\tr2 =  0.2\n",
      "1\n",
      "k = 1, 2*r1 = 0.2 -> d1 =  0 \n",
      "\t\t\tr2 =  0.4\n",
      "1\n",
      "k = 1, 2*r1 = 0.2 -> d1 =  0 \n",
      "\t\t\tr2 =  0.8\n",
      "1\n",
      "k = 1, 2*r1 = 0.2 -> d1 =  1 \n",
      "\t\t\tr2 =  0.6\n",
      "1\n",
      "k = 1, 2*r1 = 0.2 -> d1 =  1 \n",
      "\t\t\tr2 =  0.2\n",
      "1\n",
      "k = 1, 2*r1 = 0.2 -> d1 =  0 \n",
      "\t\t\tr2 =  0.4\n",
      "1\n",
      "k = 1, 2*r1 = 0.2 -> d1 =  0 \n",
      "\t\t\tr2 =  0.8\n",
      "1\n",
      "k = 1, 2*r1 = 0.2 -> d1 =  1 \n",
      "\t\t\tr2 =  0.6\n",
      "1\n",
      "k = 1, 2*r1 = 0.2 -> d1 =  1 \n",
      "\t\t\tr2 =  0.2\n",
      "1\n",
      "k = 1, 2*r1 = 0.2 -> d1 =  0 \n",
      "\t\t\tr2 =  0.4\n"
     ]
    }
   ],
   "source": [
    "import numpy as np\n",
    "\n",
    "def converterf_d(r, n):\n",
    "    k = 1\n",
    "    r1 = r\n",
    "    for i in range(n):\n",
    "        print(k)\n",
    "        r2, d1 =  np.modf(2*r1)\n",
    "        print('k = 1, 2*r1 =',2 * 0.1, '->', 'd1 = ',int(d1),'\\n\\t\\t\\tr2 = ', r2)\n",
    "        r1 = r2\n",
    "\n",
    "converterf_d(0.1,10)"
   ]
  },
  {
   "cell_type": "markdown",
   "metadata": {},
   "source": [
    "### Def Binário Decimal"
   ]
  },
  {
   "cell_type": "code",
   "execution_count": 29,
   "metadata": {
    "collapsed": false
   },
   "outputs": [
    {
     "name": "stdout",
     "output_type": "stream",
     "text": [
      "1.09375\n",
      "0.09375\n",
      "1.0\n",
      "0.9375\n",
      "0.0\n",
      "0.375\n",
      "9.0\n",
      "0.75\n",
      "3.0\n",
      "0.5\n",
      "7.0\n",
      "0.0\n",
      "5.0\n"
     ]
    }
   ],
   "source": [
    "import math\n",
    "\n",
    "def converterf_d(loops):\n",
    "    r = 2**-4 + 2**-5 + 2**-6\n",
    "    w = r * 10\n",
    "    print(w)\n",
    "    for i in range(loops):\n",
    "        fracInt = math.modf(w)\n",
    "        a = fracInt[0]\n",
    "        b = fracInt[1]\n",
    "    \n",
    "        print(a)\n",
    "        print(b)\n",
    "        w = a * 10\n",
    "\n",
    "    \n",
    "converterf_d(6)"
   ]
  },
  {
   "cell_type": "markdown",
   "metadata": {},
   "source": [
    "## Respostas"
   ]
  },
  {
   "cell_type": "markdown",
   "metadata": {},
   "source": [
    "Por Truncamento"
   ]
  },
  {
   "cell_type": "code",
   "execution_count": 30,
   "metadata": {
    "collapsed": false
   },
   "outputs": [
    {
     "name": "stdout",
     "output_type": "stream",
     "text": [
      "1.25 => 0.125 x 10^1  == True\n",
      "10.053 => 0.10053 x 10^2 == True\n",
      "-238.15 =>  x 10^1  == True\n",
      "2.71828 => 0.271828 x 10^1  == True\n",
      "718235.82 => 0.71823582 x 10^6  == False\n"
     ]
    }
   ],
   "source": [
    "print('1.25 => 0.125 x 10^1  == True')\n",
    "print('10.053 => 0.10053 x 10^2 == True')\n",
    "print('-238.15 =>  x 10^1  == True')\n",
    "print('2.71828 => 0.271828 x 10^1  == True')\n",
    "print('718235.82 => 0.71823582 x 10^6  == False')"
   ]
  },
  {
   "cell_type": "markdown",
   "metadata": {},
   "source": [
    "Por Arrendondamento"
   ]
  },
  {
   "cell_type": "code",
   "execution_count": 33,
   "metadata": {
    "collapsed": false
   },
   "outputs": [
    {
     "name": "stdout",
     "output_type": "stream",
     "text": [
      "1.25 => 0.125\n",
      "10.053 => 0.101\n",
      "-238.15 => -0.239\n",
      "2.71828 => 0.272\n",
      "718235.82 => 0.71823582 x 10^6  == False\n"
     ]
    }
   ],
   "source": [
    "print('1.25 => 0.125')\n",
    "print('10.053 => 0.101')\n",
    "print('-238.15 => -0.239')\n",
    "print('2.71828 => 0.272')\n",
    "print('718235.82 => 0.71823582 x 10^6  == False')"
   ]
  }
 ],
 "metadata": {
  "anaconda-cloud": {},
  "kernelspec": {
   "display_name": "Python [default]",
   "language": "python",
   "name": "python3"
  },
  "language_info": {
   "codemirror_mode": {
    "name": "ipython",
    "version": 3
   },
   "file_extension": ".py",
   "mimetype": "text/x-python",
   "name": "python",
   "nbconvert_exporter": "python",
   "pygments_lexer": "ipython3",
   "version": "3.5.2"
  }
 },
 "nbformat": 4,
 "nbformat_minor": 2
}
